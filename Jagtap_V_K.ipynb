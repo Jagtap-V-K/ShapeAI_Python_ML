{
  "nbformat": 4,
  "nbformat_minor": 0,
  "metadata": {
    "colab": {
      "provenance": [],
      "collapsed_sections": [],
      "toc_visible": true
    },
    "kernelspec": {
      "name": "python3",
      "display_name": "Python 3"
    },
    "language_info": {
      "name": "python"
    }
  },
  "cells": [
    {
      "cell_type": "markdown",
      "source": [
        "My First Project\n",
        "House Price Prediction using Machine Learning"
      ],
      "metadata": {
        "id": "WyWgz1KECqhW"
      }
    },
    {
      "cell_type": "code",
      "execution_count": 38,
      "metadata": {
        "id": "FaCSA3mZ_m9q"
      },
      "outputs": [],
      "source": [
        "import numpy as np #importlib, nameease\n",
        "import pandas as pd\n",
        "import sklearn"
      ]
    },
    {
      "cell_type": "code",
      "source": [
        "from sklearn.datasets import load_boston #from_ import_\n",
        "df = load_boston()"
      ],
      "metadata": {
        "id": "-u91jjJaExqn"
      },
      "execution_count": null,
      "outputs": []
    },
    {
      "cell_type": "code",
      "source": [
        "df.keys() #keylist dict"
      ],
      "metadata": {
        "id": "zA00u2KLE2G3"
      },
      "execution_count": null,
      "outputs": []
    },
    {
      "cell_type": "code",
      "source": [
        "print(df.DESCR) #info"
      ],
      "metadata": {
        "id": "gEXZsCr5FOVP"
      },
      "execution_count": null,
      "outputs": []
    },
    {
      "cell_type": "code",
      "source": [
        "boston = pd.DataFrame(df.data, columns=df.feature_names) #tabular\n",
        "boston.head() #result, boston.head(20)"
      ],
      "metadata": {
        "id": "iX0GnE-qHuUv"
      },
      "execution_count": null,
      "outputs": []
    },
    {
      "cell_type": "code",
      "source": [
        "boston['MEDV'] = df.target #column MEDV=target values\n",
        "boston.head()"
      ],
      "metadata": {
        "id": "fyqxXJuwJL_R"
      },
      "execution_count": null,
      "outputs": []
    },
    {
      "cell_type": "code",
      "source": [
        "boston.isnull() #checking bug"
      ],
      "metadata": {
        "id": "YPgNMC1ELIq0"
      },
      "execution_count": null,
      "outputs": []
    },
    {
      "cell_type": "code",
      "source": [
        "boston.isnull().sum()"
      ],
      "metadata": {
        "id": "PuQcpGN_MACT"
      },
      "execution_count": null,
      "outputs": []
    },
    {
      "cell_type": "code",
      "source": [
        "from sklearn.model_selection import train_test_split #split train-test\n",
        "\n",
        "X = boston.drop('MEDV', axis=1) #all-data leave MEDVcoln #(ax=1)coln,row(ax=0)\n",
        "Y = boston['MEDV'] #just MEDVcoln\n",
        "\n",
        "X_train, X_test, Y_train, Y_test = train_test_split(X, Y, test_size = 0.15, random_state=5) #15off100\n",
        "\n",
        "print(X_train.shape)\n",
        "print(X_test.shape)\n",
        "print(Y_train.shape)\n",
        "print(Y_test.shape)"
      ],
      "metadata": {
        "id": "zu8UbDp1M7Dh"
      },
      "execution_count": null,
      "outputs": []
    },
    {
      "cell_type": "code",
      "source": [
        "from sklearn.linear_model import LinearRegression\n",
        "from sklearn.metrics import mean_squared_error #mse=\\/--|(real^2-predicted value^2)|-- * 1/n"
      ],
      "metadata": {
        "id": "Y3eVk3K0O6Jt"
      },
      "execution_count": 47,
      "outputs": []
    },
    {
      "cell_type": "code",
      "source": [
        "lin_model = LinearRegression() #algo\n",
        "lin_model.fit(X_train, Y_train)"
      ],
      "metadata": {
        "id": "m49InY_DPz2d"
      },
      "execution_count": null,
      "outputs": []
    },
    {
      "cell_type": "code",
      "source": [
        "y_train_predict = lin_model.predict(X_train)\n",
        "rmse = (np.sqrt(mean_squared_error(Y_train, y_train_predict)))\n",
        "\n",
        "print(\"The model performance for training set\")\n",
        "print('RMSE is {}'.format(rmse))\n",
        "print(\"\\n\")\n",
        "\n",
        "y_test_predict = lin_model.predict(X_test)\n",
        "rmse = (np.sqrt(mean_squared_error(Y_test, y_test_predict)))\n",
        "\n",
        "print(\"The model performance for testing set\")\n",
        "print('RMSE is {}'.format(rmse)) #pridected-orignal value r near="
      ],
      "metadata": {
        "id": "3ajt7ZO2RK1J"
      },
      "execution_count": null,
      "outputs": []
    }
  ]
}